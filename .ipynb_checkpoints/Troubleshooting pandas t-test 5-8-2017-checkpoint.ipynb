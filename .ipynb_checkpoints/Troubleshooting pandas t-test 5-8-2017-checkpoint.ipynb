{
 "cells": [
  {
   "cell_type": "code",
   "execution_count": 1,
   "metadata": {
    "collapsed": true
   },
   "outputs": [],
   "source": [
    "import pandas as pd\n",
    "import numpy as np\n",
    "%matplotlib inline\n",
    "import random\n",
    "import matplotlib.pyplot as plt\n",
    "import matplotlib as mpl\n",
    "import seaborn as sns\n",
    "from scipy.stats import ttest_ind\n",
    "datapath = r'C:\\Users\\Dan\\Documents\\GitHub\\pandas_ttest\\countsDf4.xlsx'"
   ]
  },
  {
   "cell_type": "code",
   "execution_count": 2,
   "metadata": {
    "collapsed": false
   },
   "outputs": [
    {
     "data": {
      "text/html": [
       "<div>\n",
       "<style>\n",
       "    .dataframe thead tr:only-child th {\n",
       "        text-align: right;\n",
       "    }\n",
       "\n",
       "    .dataframe thead th {\n",
       "        text-align: left;\n",
       "    }\n",
       "\n",
       "    .dataframe tbody tr th {\n",
       "        vertical-align: top;\n",
       "    }\n",
       "</style>\n",
       "<table border=\"1\" class=\"dataframe\">\n",
       "  <thead>\n",
       "    <tr>\n",
       "      <th>Strain</th>\n",
       "      <th colspan=\"10\" halign=\"left\">LL1004</th>\n",
       "      <th>...</th>\n",
       "      <th colspan=\"4\" halign=\"left\">LL374</th>\n",
       "      <th colspan=\"3\" halign=\"left\">LL375</th>\n",
       "      <th colspan=\"3\" halign=\"left\">LL376</th>\n",
       "    </tr>\n",
       "    <tr>\n",
       "      <th>JGI library</th>\n",
       "      <th>BCHAC</th>\n",
       "      <th>BCHAO</th>\n",
       "      <th>BCHAT</th>\n",
       "      <th>BCHAW</th>\n",
       "      <th>BCHAY</th>\n",
       "      <th>BCHBA</th>\n",
       "      <th>BCHBB</th>\n",
       "      <th>BCHBP</th>\n",
       "      <th>BCHBS</th>\n",
       "      <th>BCHNG</th>\n",
       "      <th>...</th>\n",
       "      <th>BCHBH</th>\n",
       "      <th>BCHGW</th>\n",
       "      <th>BCHHT</th>\n",
       "      <th>BCHHU</th>\n",
       "      <th>BCHNO</th>\n",
       "      <th>BCHNS</th>\n",
       "      <th>BCHNW</th>\n",
       "      <th>BCGXU</th>\n",
       "      <th>BCGXZ</th>\n",
       "      <th>BCHHW</th>\n",
       "    </tr>\n",
       "    <tr>\n",
       "      <th>geneID</th>\n",
       "      <th></th>\n",
       "      <th></th>\n",
       "      <th></th>\n",
       "      <th></th>\n",
       "      <th></th>\n",
       "      <th></th>\n",
       "      <th></th>\n",
       "      <th></th>\n",
       "      <th></th>\n",
       "      <th></th>\n",
       "      <th></th>\n",
       "      <th></th>\n",
       "      <th></th>\n",
       "      <th></th>\n",
       "      <th></th>\n",
       "      <th></th>\n",
       "      <th></th>\n",
       "      <th></th>\n",
       "      <th></th>\n",
       "      <th></th>\n",
       "      <th></th>\n",
       "    </tr>\n",
       "  </thead>\n",
       "  <tbody>\n",
       "    <tr>\n",
       "      <th>650468844</th>\n",
       "      <td>375.33</td>\n",
       "      <td>403.40</td>\n",
       "      <td>377.32</td>\n",
       "      <td>378.66</td>\n",
       "      <td>374.28</td>\n",
       "      <td>424.02</td>\n",
       "      <td>320.08</td>\n",
       "      <td>382.45</td>\n",
       "      <td>332.75</td>\n",
       "      <td>426.00</td>\n",
       "      <td>...</td>\n",
       "      <td>168.75</td>\n",
       "      <td>145.63</td>\n",
       "      <td>183.16</td>\n",
       "      <td>180.17</td>\n",
       "      <td>219.94</td>\n",
       "      <td>344.40</td>\n",
       "      <td>317.59</td>\n",
       "      <td>240.10</td>\n",
       "      <td>238.71</td>\n",
       "      <td>322.58</td>\n",
       "    </tr>\n",
       "    <tr>\n",
       "      <th>650468845</th>\n",
       "      <td>247.00</td>\n",
       "      <td>293.31</td>\n",
       "      <td>267.97</td>\n",
       "      <td>293.84</td>\n",
       "      <td>252.92</td>\n",
       "      <td>310.75</td>\n",
       "      <td>239.44</td>\n",
       "      <td>265.23</td>\n",
       "      <td>256.20</td>\n",
       "      <td>317.44</td>\n",
       "      <td>...</td>\n",
       "      <td>131.01</td>\n",
       "      <td>99.11</td>\n",
       "      <td>118.88</td>\n",
       "      <td>112.04</td>\n",
       "      <td>75.28</td>\n",
       "      <td>190.94</td>\n",
       "      <td>166.97</td>\n",
       "      <td>145.85</td>\n",
       "      <td>159.90</td>\n",
       "      <td>170.80</td>\n",
       "    </tr>\n",
       "    <tr>\n",
       "      <th>650468846</th>\n",
       "      <td>101.49</td>\n",
       "      <td>102.58</td>\n",
       "      <td>107.27</td>\n",
       "      <td>110.09</td>\n",
       "      <td>89.37</td>\n",
       "      <td>158.15</td>\n",
       "      <td>101.22</td>\n",
       "      <td>108.55</td>\n",
       "      <td>113.49</td>\n",
       "      <td>130.16</td>\n",
       "      <td>...</td>\n",
       "      <td>35.44</td>\n",
       "      <td>37.90</td>\n",
       "      <td>48.15</td>\n",
       "      <td>47.63</td>\n",
       "      <td>21.27</td>\n",
       "      <td>81.69</td>\n",
       "      <td>50.55</td>\n",
       "      <td>65.70</td>\n",
       "      <td>70.59</td>\n",
       "      <td>74.11</td>\n",
       "    </tr>\n",
       "    <tr>\n",
       "      <th>650468847</th>\n",
       "      <td>90.27</td>\n",
       "      <td>115.07</td>\n",
       "      <td>85.15</td>\n",
       "      <td>100.28</td>\n",
       "      <td>79.51</td>\n",
       "      <td>119.56</td>\n",
       "      <td>82.07</td>\n",
       "      <td>92.85</td>\n",
       "      <td>78.04</td>\n",
       "      <td>113.71</td>\n",
       "      <td>...</td>\n",
       "      <td>40.95</td>\n",
       "      <td>47.06</td>\n",
       "      <td>46.91</td>\n",
       "      <td>41.27</td>\n",
       "      <td>23.79</td>\n",
       "      <td>81.65</td>\n",
       "      <td>67.83</td>\n",
       "      <td>41.17</td>\n",
       "      <td>43.86</td>\n",
       "      <td>51.91</td>\n",
       "    </tr>\n",
       "    <tr>\n",
       "      <th>650468848</th>\n",
       "      <td>208.68</td>\n",
       "      <td>268.60</td>\n",
       "      <td>196.96</td>\n",
       "      <td>209.50</td>\n",
       "      <td>220.85</td>\n",
       "      <td>270.26</td>\n",
       "      <td>254.04</td>\n",
       "      <td>244.44</td>\n",
       "      <td>174.02</td>\n",
       "      <td>202.92</td>\n",
       "      <td>...</td>\n",
       "      <td>146.82</td>\n",
       "      <td>272.25</td>\n",
       "      <td>292.82</td>\n",
       "      <td>246.96</td>\n",
       "      <td>284.31</td>\n",
       "      <td>258.15</td>\n",
       "      <td>279.70</td>\n",
       "      <td>207.56</td>\n",
       "      <td>266.97</td>\n",
       "      <td>247.45</td>\n",
       "    </tr>\n",
       "  </tbody>\n",
       "</table>\n",
       "<p>5 rows × 58 columns</p>\n",
       "</div>"
      ],
      "text/plain": [
       "Strain       LL1004                                                          \\\n",
       "JGI library   BCHAC   BCHAO   BCHAT   BCHAW   BCHAY   BCHBA   BCHBB   BCHBP   \n",
       "geneID                                                                        \n",
       "650468844    375.33  403.40  377.32  378.66  374.28  424.02  320.08  382.45   \n",
       "650468845    247.00  293.31  267.97  293.84  252.92  310.75  239.44  265.23   \n",
       "650468846    101.49  102.58  107.27  110.09   89.37  158.15  101.22  108.55   \n",
       "650468847     90.27  115.07   85.15  100.28   79.51  119.56   82.07   92.85   \n",
       "650468848    208.68  268.60  196.96  209.50  220.85  270.26  254.04  244.44   \n",
       "\n",
       "Strain                        ...     LL374                           LL375  \\\n",
       "JGI library   BCHBS   BCHNG   ...     BCHBH   BCHGW   BCHHT   BCHHU   BCHNO   \n",
       "geneID                        ...                                             \n",
       "650468844    332.75  426.00   ...    168.75  145.63  183.16  180.17  219.94   \n",
       "650468845    256.20  317.44   ...    131.01   99.11  118.88  112.04   75.28   \n",
       "650468846    113.49  130.16   ...     35.44   37.90   48.15   47.63   21.27   \n",
       "650468847     78.04  113.71   ...     40.95   47.06   46.91   41.27   23.79   \n",
       "650468848    174.02  202.92   ...    146.82  272.25  292.82  246.96  284.31   \n",
       "\n",
       "Strain                        LL376                  \n",
       "JGI library   BCHNS   BCHNW   BCGXU   BCGXZ   BCHHW  \n",
       "geneID                                               \n",
       "650468844    344.40  317.59  240.10  238.71  322.58  \n",
       "650468845    190.94  166.97  145.85  159.90  170.80  \n",
       "650468846     81.69   50.55   65.70   70.59   74.11  \n",
       "650468847     81.65   67.83   41.17   43.86   51.91  \n",
       "650468848    258.15  279.70  207.56  266.97  247.45  \n",
       "\n",
       "[5 rows x 58 columns]"
      ]
     },
     "execution_count": 2,
     "metadata": {},
     "output_type": "execute_result"
    }
   ],
   "source": [
    "countsDf4 = pd.read_excel(datapath, header = [0,1], index_col=0)\n",
    "countsDf4[:5]"
   ]
  },
  {
   "cell_type": "markdown",
   "metadata": {},
   "source": [
    "I can do a t-test when I just take a single row of data"
   ]
  },
  {
   "cell_type": "code",
   "execution_count": 3,
   "metadata": {
    "collapsed": false
   },
   "outputs": [
    {
     "data": {
      "text/plain": [
       "0.0015966964475575937"
      ]
     },
     "execution_count": 3,
     "metadata": {},
     "output_type": "execute_result"
    }
   ],
   "source": [
    "row = countsDf4.iloc[0]\n",
    "parent = 'LL1004'\n",
    "child = 'LL345'\n",
    "ttest_ind(row.groupby(level='Strain').get_group(parent), row.groupby(level='Strain').get_group(child))[1]"
   ]
  },
  {
   "cell_type": "markdown",
   "metadata": {},
   "source": [
    "Here's the kludgy solution I came up with because I couldn't figure out how to vectorize it. "
   ]
  },
  {
   "cell_type": "code",
   "execution_count": 7,
   "metadata": {
    "collapsed": false
   },
   "outputs": [
    {
     "name": "stdout",
     "output_type": "stream",
     "text": [
      "strain:LL1011 parent:LL1042\n"
     ]
    },
    {
     "name": "stderr",
     "output_type": "stream",
     "text": [
      "C:\\Users\\Dan\\Anaconda3\\lib\\site-packages\\scipy\\stats\\_distn_infrastructure.py:875: RuntimeWarning: invalid value encountered in greater\n",
      "  return (self.a < x) & (x < self.b)\n",
      "C:\\Users\\Dan\\Anaconda3\\lib\\site-packages\\scipy\\stats\\_distn_infrastructure.py:875: RuntimeWarning: invalid value encountered in less\n",
      "  return (self.a < x) & (x < self.b)\n",
      "C:\\Users\\Dan\\Anaconda3\\lib\\site-packages\\scipy\\stats\\_distn_infrastructure.py:1814: RuntimeWarning: invalid value encountered in less_equal\n",
      "  cond2 = cond0 & (x <= self.a)\n"
     ]
    },
    {
     "name": "stdout",
     "output_type": "stream",
     "text": [
      "strain:LL1036 parent:LL345\n",
      "strain:LL1041 parent:LL345\n",
      "strain:LL1042 parent:LL1036\n",
      "strain:LL1043 parent:LL1042\n",
      "strain:LL1044 parent:LL372\n",
      "strain:LL1160 parent:LL345\n",
      "strain:LL1161 parent:LL345\n",
      "strain:LL345 parent:LL1004\n",
      "strain:LL372 parent:LL376\n",
      "strain:LL373 parent:LL376\n",
      "strain:LL374 parent:LL1044\n",
      "strain:LL375 parent:LL1044\n",
      "strain:LL376 parent:LL345\n",
      "Wall time: 57.4 s\n"
     ]
    }
   ],
   "source": [
    "%%time\n",
    "# calculate p-value\n",
    "strainList = ['LL1011', 'LL1036', 'LL1041', 'LL1042', 'LL1043', 'LL1044',\n",
    "       'LL1160', 'LL1161', 'LL345', 'LL372', 'LL373', 'LL374', 'LL375',\n",
    "       'LL376']\n",
    "parentList = ['LL1042', 'LL345', 'LL345', 'LL1036', 'LL1042', 'LL372', 'LL345',\n",
    "       'LL345', 'LL1004', 'LL376', 'LL376', 'LL1044', 'LL1044', 'LL345']\n",
    "pValDf = pd.DataFrame(columns = strainList)\n",
    "for strain in strainList:\n",
    "    parent = parentList[strainList.index(strain)]\n",
    "    print(\"strain:\" + strain + ' parent:' + parent)\n",
    "    # calculate p-value\n",
    "    resultSer = pd.Series(data=None, index=countsDf4.index)\n",
    "    for row in countsDf4.iterrows():\n",
    "        parData = row[1].groupby(level='Strain').get_group(parent)\n",
    "        chiData = row[1].groupby(level='Strain').get_group(child)\n",
    "        index = row[0]\n",
    "        result = -1*np.log10(ttest_ind(parData, chiData)[1])\n",
    "        resultSer[index] = result\n",
    "    \n",
    "    pValDf.loc[:,strain] = resultSer\n",
    "    \n",
    "\n",
    "pValDf[:5]"
   ]
  },
  {
   "cell_type": "markdown",
   "metadata": {},
   "source": [
    "Here's how I tried to do the t-test using apply and lambda functions.  Any ideas how I can investigate the lambda function to see what kind of object it's generating (which I'm calling \"row\")?"
   ]
  },
  {
   "cell_type": "code",
   "execution_count": 8,
   "metadata": {
    "collapsed": false
   },
   "outputs": [
    {
     "ename": "ValueError",
     "evalue": "('level name Strain is not the name of the index', 'occurred at index (LL1004, BCHAC)')",
     "output_type": "error",
     "traceback": [
      "\u001b[0;31m---------------------------------------------------------------------------\u001b[0m",
      "\u001b[0;31mValueError\u001b[0m                                Traceback (most recent call last)",
      "\u001b[0;32m<ipython-input-8-659f8312a701>\u001b[0m in \u001b[0;36m<module>\u001b[0;34m()\u001b[0m\n\u001b[1;32m      1\u001b[0m \u001b[0mparent\u001b[0m \u001b[1;33m=\u001b[0m \u001b[1;34m'LL1004'\u001b[0m\u001b[1;33m\u001b[0m\u001b[0m\n\u001b[1;32m      2\u001b[0m \u001b[0mchild\u001b[0m \u001b[1;33m=\u001b[0m \u001b[1;34m'LL345'\u001b[0m\u001b[1;33m\u001b[0m\u001b[0m\n\u001b[0;32m----> 3\u001b[0;31m \u001b[0mpvalDf\u001b[0m \u001b[1;33m=\u001b[0m \u001b[0mcountsDf4\u001b[0m\u001b[1;33m.\u001b[0m\u001b[0mapply\u001b[0m\u001b[1;33m(\u001b[0m\u001b[1;32mlambda\u001b[0m \u001b[0mrow\u001b[0m\u001b[1;33m:\u001b[0m \u001b[0mttest_ind\u001b[0m\u001b[1;33m(\u001b[0m\u001b[0mrow\u001b[0m\u001b[1;33m.\u001b[0m\u001b[0mgroupby\u001b[0m\u001b[1;33m(\u001b[0m\u001b[0mlevel\u001b[0m\u001b[1;33m=\u001b[0m\u001b[1;34m'Strain'\u001b[0m\u001b[1;33m)\u001b[0m\u001b[1;33m.\u001b[0m\u001b[0mget_group\u001b[0m\u001b[1;33m(\u001b[0m\u001b[0mparent\u001b[0m\u001b[1;33m)\u001b[0m\u001b[1;33m,\u001b[0m \u001b[0mrow\u001b[0m\u001b[1;33m.\u001b[0m\u001b[0mgroupby\u001b[0m\u001b[1;33m(\u001b[0m\u001b[0mlevel\u001b[0m\u001b[1;33m=\u001b[0m\u001b[1;34m'Strain'\u001b[0m\u001b[1;33m)\u001b[0m\u001b[1;33m.\u001b[0m\u001b[0mget_group\u001b[0m\u001b[1;33m(\u001b[0m\u001b[0mchild\u001b[0m\u001b[1;33m)\u001b[0m\u001b[1;33m)\u001b[0m\u001b[1;33m[\u001b[0m\u001b[1;36m1\u001b[0m\u001b[1;33m]\u001b[0m\u001b[1;33m)\u001b[0m\u001b[1;33m\u001b[0m\u001b[0m\n\u001b[0m",
      "\u001b[0;32mC:\\Users\\Dan\\Anaconda3\\lib\\site-packages\\pandas\\core\\frame.py\u001b[0m in \u001b[0;36mapply\u001b[0;34m(self, func, axis, broadcast, raw, reduce, args, **kwds)\u001b[0m\n\u001b[1;32m   4358\u001b[0m                         \u001b[0mf\u001b[0m\u001b[1;33m,\u001b[0m \u001b[0maxis\u001b[0m\u001b[1;33m,\u001b[0m\u001b[1;33m\u001b[0m\u001b[0m\n\u001b[1;32m   4359\u001b[0m                         \u001b[0mreduce\u001b[0m\u001b[1;33m=\u001b[0m\u001b[0mreduce\u001b[0m\u001b[1;33m,\u001b[0m\u001b[1;33m\u001b[0m\u001b[0m\n\u001b[0;32m-> 4360\u001b[0;31m                         ignore_failures=ignore_failures)\n\u001b[0m\u001b[1;32m   4361\u001b[0m             \u001b[1;32melse\u001b[0m\u001b[1;33m:\u001b[0m\u001b[1;33m\u001b[0m\u001b[0m\n\u001b[1;32m   4362\u001b[0m                 \u001b[1;32mreturn\u001b[0m \u001b[0mself\u001b[0m\u001b[1;33m.\u001b[0m\u001b[0m_apply_broadcast\u001b[0m\u001b[1;33m(\u001b[0m\u001b[0mf\u001b[0m\u001b[1;33m,\u001b[0m \u001b[0maxis\u001b[0m\u001b[1;33m)\u001b[0m\u001b[1;33m\u001b[0m\u001b[0m\n",
      "\u001b[0;32mC:\\Users\\Dan\\Anaconda3\\lib\\site-packages\\pandas\\core\\frame.py\u001b[0m in \u001b[0;36m_apply_standard\u001b[0;34m(self, func, axis, ignore_failures, reduce)\u001b[0m\n\u001b[1;32m   4454\u001b[0m             \u001b[1;32mtry\u001b[0m\u001b[1;33m:\u001b[0m\u001b[1;33m\u001b[0m\u001b[0m\n\u001b[1;32m   4455\u001b[0m                 \u001b[1;32mfor\u001b[0m \u001b[0mi\u001b[0m\u001b[1;33m,\u001b[0m \u001b[0mv\u001b[0m \u001b[1;32min\u001b[0m \u001b[0menumerate\u001b[0m\u001b[1;33m(\u001b[0m\u001b[0mseries_gen\u001b[0m\u001b[1;33m)\u001b[0m\u001b[1;33m:\u001b[0m\u001b[1;33m\u001b[0m\u001b[0m\n\u001b[0;32m-> 4456\u001b[0;31m                     \u001b[0mresults\u001b[0m\u001b[1;33m[\u001b[0m\u001b[0mi\u001b[0m\u001b[1;33m]\u001b[0m \u001b[1;33m=\u001b[0m \u001b[0mfunc\u001b[0m\u001b[1;33m(\u001b[0m\u001b[0mv\u001b[0m\u001b[1;33m)\u001b[0m\u001b[1;33m\u001b[0m\u001b[0m\n\u001b[0m\u001b[1;32m   4457\u001b[0m                     \u001b[0mkeys\u001b[0m\u001b[1;33m.\u001b[0m\u001b[0mappend\u001b[0m\u001b[1;33m(\u001b[0m\u001b[0mv\u001b[0m\u001b[1;33m.\u001b[0m\u001b[0mname\u001b[0m\u001b[1;33m)\u001b[0m\u001b[1;33m\u001b[0m\u001b[0m\n\u001b[1;32m   4458\u001b[0m             \u001b[1;32mexcept\u001b[0m \u001b[0mException\u001b[0m \u001b[1;32mas\u001b[0m \u001b[0me\u001b[0m\u001b[1;33m:\u001b[0m\u001b[1;33m\u001b[0m\u001b[0m\n",
      "\u001b[0;32m<ipython-input-8-659f8312a701>\u001b[0m in \u001b[0;36m<lambda>\u001b[0;34m(row)\u001b[0m\n\u001b[1;32m      1\u001b[0m \u001b[0mparent\u001b[0m \u001b[1;33m=\u001b[0m \u001b[1;34m'LL1004'\u001b[0m\u001b[1;33m\u001b[0m\u001b[0m\n\u001b[1;32m      2\u001b[0m \u001b[0mchild\u001b[0m \u001b[1;33m=\u001b[0m \u001b[1;34m'LL345'\u001b[0m\u001b[1;33m\u001b[0m\u001b[0m\n\u001b[0;32m----> 3\u001b[0;31m \u001b[0mpvalDf\u001b[0m \u001b[1;33m=\u001b[0m \u001b[0mcountsDf4\u001b[0m\u001b[1;33m.\u001b[0m\u001b[0mapply\u001b[0m\u001b[1;33m(\u001b[0m\u001b[1;32mlambda\u001b[0m \u001b[0mrow\u001b[0m\u001b[1;33m:\u001b[0m \u001b[0mttest_ind\u001b[0m\u001b[1;33m(\u001b[0m\u001b[0mrow\u001b[0m\u001b[1;33m.\u001b[0m\u001b[0mgroupby\u001b[0m\u001b[1;33m(\u001b[0m\u001b[0mlevel\u001b[0m\u001b[1;33m=\u001b[0m\u001b[1;34m'Strain'\u001b[0m\u001b[1;33m)\u001b[0m\u001b[1;33m.\u001b[0m\u001b[0mget_group\u001b[0m\u001b[1;33m(\u001b[0m\u001b[0mparent\u001b[0m\u001b[1;33m)\u001b[0m\u001b[1;33m,\u001b[0m \u001b[0mrow\u001b[0m\u001b[1;33m.\u001b[0m\u001b[0mgroupby\u001b[0m\u001b[1;33m(\u001b[0m\u001b[0mlevel\u001b[0m\u001b[1;33m=\u001b[0m\u001b[1;34m'Strain'\u001b[0m\u001b[1;33m)\u001b[0m\u001b[1;33m.\u001b[0m\u001b[0mget_group\u001b[0m\u001b[1;33m(\u001b[0m\u001b[0mchild\u001b[0m\u001b[1;33m)\u001b[0m\u001b[1;33m)\u001b[0m\u001b[1;33m[\u001b[0m\u001b[1;36m1\u001b[0m\u001b[1;33m]\u001b[0m\u001b[1;33m)\u001b[0m\u001b[1;33m\u001b[0m\u001b[0m\n\u001b[0m",
      "\u001b[0;32mC:\\Users\\Dan\\Anaconda3\\lib\\site-packages\\pandas\\core\\generic.py\u001b[0m in \u001b[0;36mgroupby\u001b[0;34m(self, by, axis, level, as_index, sort, group_keys, squeeze, **kwargs)\u001b[0m\n\u001b[1;32m   4269\u001b[0m         return groupby(self, by=by, axis=axis, level=level, as_index=as_index,\n\u001b[1;32m   4270\u001b[0m                        \u001b[0msort\u001b[0m\u001b[1;33m=\u001b[0m\u001b[0msort\u001b[0m\u001b[1;33m,\u001b[0m \u001b[0mgroup_keys\u001b[0m\u001b[1;33m=\u001b[0m\u001b[0mgroup_keys\u001b[0m\u001b[1;33m,\u001b[0m \u001b[0msqueeze\u001b[0m\u001b[1;33m=\u001b[0m\u001b[0msqueeze\u001b[0m\u001b[1;33m,\u001b[0m\u001b[1;33m\u001b[0m\u001b[0m\n\u001b[0;32m-> 4271\u001b[0;31m                        **kwargs)\n\u001b[0m\u001b[1;32m   4272\u001b[0m \u001b[1;33m\u001b[0m\u001b[0m\n\u001b[1;32m   4273\u001b[0m     def asfreq(self, freq, method=None, how=None, normalize=False,\n",
      "\u001b[0;32mC:\\Users\\Dan\\Anaconda3\\lib\\site-packages\\pandas\\core\\groupby.py\u001b[0m in \u001b[0;36mgroupby\u001b[0;34m(obj, by, **kwds)\u001b[0m\n\u001b[1;32m   1624\u001b[0m         \u001b[1;32mraise\u001b[0m \u001b[0mTypeError\u001b[0m\u001b[1;33m(\u001b[0m\u001b[1;34m'invalid type: %s'\u001b[0m \u001b[1;33m%\u001b[0m \u001b[0mtype\u001b[0m\u001b[1;33m(\u001b[0m\u001b[0mobj\u001b[0m\u001b[1;33m)\u001b[0m\u001b[1;33m)\u001b[0m\u001b[1;33m\u001b[0m\u001b[0m\n\u001b[1;32m   1625\u001b[0m \u001b[1;33m\u001b[0m\u001b[0m\n\u001b[0;32m-> 1626\u001b[0;31m     \u001b[1;32mreturn\u001b[0m \u001b[0mklass\u001b[0m\u001b[1;33m(\u001b[0m\u001b[0mobj\u001b[0m\u001b[1;33m,\u001b[0m \u001b[0mby\u001b[0m\u001b[1;33m,\u001b[0m \u001b[1;33m**\u001b[0m\u001b[0mkwds\u001b[0m\u001b[1;33m)\u001b[0m\u001b[1;33m\u001b[0m\u001b[0m\n\u001b[0m\u001b[1;32m   1627\u001b[0m \u001b[1;33m\u001b[0m\u001b[0m\n\u001b[1;32m   1628\u001b[0m \u001b[1;33m\u001b[0m\u001b[0m\n",
      "\u001b[0;32mC:\\Users\\Dan\\Anaconda3\\lib\\site-packages\\pandas\\core\\groupby.py\u001b[0m in \u001b[0;36m__init__\u001b[0;34m(self, obj, keys, axis, level, grouper, exclusions, selection, as_index, sort, group_keys, squeeze, **kwargs)\u001b[0m\n\u001b[1;32m    390\u001b[0m                                                     \u001b[0mlevel\u001b[0m\u001b[1;33m=\u001b[0m\u001b[0mlevel\u001b[0m\u001b[1;33m,\u001b[0m\u001b[1;33m\u001b[0m\u001b[0m\n\u001b[1;32m    391\u001b[0m                                                     \u001b[0msort\u001b[0m\u001b[1;33m=\u001b[0m\u001b[0msort\u001b[0m\u001b[1;33m,\u001b[0m\u001b[1;33m\u001b[0m\u001b[0m\n\u001b[0;32m--> 392\u001b[0;31m                                                     mutated=self.mutated)\n\u001b[0m\u001b[1;32m    393\u001b[0m \u001b[1;33m\u001b[0m\u001b[0m\n\u001b[1;32m    394\u001b[0m         \u001b[0mself\u001b[0m\u001b[1;33m.\u001b[0m\u001b[0mobj\u001b[0m \u001b[1;33m=\u001b[0m \u001b[0mobj\u001b[0m\u001b[1;33m\u001b[0m\u001b[0m\n",
      "\u001b[0;32mC:\\Users\\Dan\\Anaconda3\\lib\\site-packages\\pandas\\core\\groupby.py\u001b[0m in \u001b[0;36m_get_grouper\u001b[0;34m(obj, key, axis, level, sort, mutated)\u001b[0m\n\u001b[1;32m   2522\u001b[0m                 \u001b[1;32mif\u001b[0m \u001b[0mobj\u001b[0m\u001b[1;33m.\u001b[0m\u001b[0mindex\u001b[0m\u001b[1;33m.\u001b[0m\u001b[0mname\u001b[0m \u001b[1;33m!=\u001b[0m \u001b[0mlevel\u001b[0m\u001b[1;33m:\u001b[0m\u001b[1;33m\u001b[0m\u001b[0m\n\u001b[1;32m   2523\u001b[0m                     raise ValueError('level name %s is not the name of the '\n\u001b[0;32m-> 2524\u001b[0;31m                                      'index' % level)\n\u001b[0m\u001b[1;32m   2525\u001b[0m             \u001b[1;32melif\u001b[0m \u001b[0mlevel\u001b[0m \u001b[1;33m>\u001b[0m \u001b[1;36m0\u001b[0m \u001b[1;32mor\u001b[0m \u001b[0mlevel\u001b[0m \u001b[1;33m<\u001b[0m \u001b[1;33m-\u001b[0m\u001b[1;36m1\u001b[0m\u001b[1;33m:\u001b[0m\u001b[1;33m\u001b[0m\u001b[0m\n\u001b[1;32m   2526\u001b[0m                 raise ValueError('level > 0 or level < -1 only valid with '\n",
      "\u001b[0;31mValueError\u001b[0m: ('level name Strain is not the name of the index', 'occurred at index (LL1004, BCHAC)')"
     ]
    }
   ],
   "source": [
    "parent = 'LL1004'\n",
    "child = 'LL345'\n",
    "pvalDf = countsDf4.apply(lambda row: ttest_ind(row.groupby(level='Strain').get_group(parent), row.groupby(level='Strain').get_group(child))[1])"
   ]
  },
  {
   "cell_type": "code",
   "execution_count": null,
   "metadata": {
    "collapsed": true
   },
   "outputs": [],
   "source": []
  }
 ],
 "metadata": {
  "kernelspec": {
   "display_name": "Python [conda root]",
   "language": "python",
   "name": "conda-root-py"
  },
  "language_info": {
   "codemirror_mode": {
    "name": "ipython",
    "version": 3
   },
   "file_extension": ".py",
   "mimetype": "text/x-python",
   "name": "python",
   "nbconvert_exporter": "python",
   "pygments_lexer": "ipython3",
   "version": "3.5.2"
  }
 },
 "nbformat": 4,
 "nbformat_minor": 2
}
